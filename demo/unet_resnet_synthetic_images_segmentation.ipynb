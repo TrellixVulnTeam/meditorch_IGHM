{
  "nbformat": 4,
  "nbformat_minor": 0,
  "metadata": {
    "colab": {
      "name": "unet-resnet-synthetic-images-segmentation.ipynb",
      "provenance": [],
      "collapsed_sections": [],
      "include_colab_link": true
    },
    "kernelspec": {
      "name": "python3",
      "display_name": "Python 3"
    },
    "accelerator": "GPU"
  },
  "cells": [
    {
      "cell_type": "markdown",
      "metadata": {
        "id": "view-in-github",
        "colab_type": "text"
      },
      "source": [
        "<a href=\"https://colab.research.google.com/github/jinglescode/meditorch/blob/master/demo/unet_resnet_synthetic_images_segmentation.ipynb\" target=\"_parent\"><img src=\"https://colab.research.google.com/assets/colab-badge.svg\" alt=\"Open In Colab\"/></a>"
      ]
    },
    {
      "cell_type": "markdown",
      "metadata": {
        "id": "KIpD6JYppa3d",
        "colab_type": "text"
      },
      "source": [
        "# Get packages"
      ]
    },
    {
      "cell_type": "code",
      "metadata": {
        "id": "EE10xc8Fo8Ux",
        "colab_type": "code",
        "colab": {}
      },
      "source": [
        "!pip install meditorch"
      ],
      "execution_count": 0,
      "outputs": []
    },
    {
      "cell_type": "markdown",
      "metadata": {
        "id": "Kyd_C5u-pdhk",
        "colab_type": "text"
      },
      "source": [
        "# Data"
      ]
    },
    {
      "cell_type": "code",
      "metadata": {
        "id": "a5-bWsFLpedw",
        "colab_type": "code",
        "colab": {}
      },
      "source": [
        "from meditorch.datasets import SyntheticImagesMasks\n",
        "from torch.utils.data import DataLoader\n",
        "syndata = SyntheticImagesMasks()\n",
        "\n",
        "train_set_synthetic = SyntheticImagesMasks(size=1000)\n",
        "val_set_synthetic = SyntheticImagesMasks(size=100)\n",
        "\n",
        "batch_size = 25\n",
        "\n",
        "dataloaders_synthetic = {\n",
        "    'train': DataLoader(train_set_synthetic, batch_size=batch_size, shuffle=True, num_workers=2),\n",
        "    'val': DataLoader(val_set_synthetic, batch_size=batch_size, shuffle=True, num_workers=2)\n",
        "}"
      ],
      "execution_count": 0,
      "outputs": []
    },
    {
      "cell_type": "markdown",
      "metadata": {
        "id": "zWg__1uOprai",
        "colab_type": "text"
      },
      "source": [
        "# Model"
      ]
    },
    {
      "cell_type": "code",
      "metadata": {
        "id": "K1mB6OTUpdBU",
        "colab_type": "code",
        "outputId": "972be0be-6e53-4b28-de6f-2cb83b5b694e",
        "colab": {
          "base_uri": "https://localhost:8080/",
          "height": 1000
        }
      },
      "source": [
        "from meditorch.nn.models import UNetResNet\n",
        "from torchsummary import summary\n",
        "\n",
        "model = UNetResNet(in_channel=3, n_classes=6)\n",
        "\n",
        "print(model)"
      ],
      "execution_count": 12,
      "outputs": [
        {
          "output_type": "stream",
          "text": [
            "UNetResNet(\n",
            "  (base_model): ResNet(\n",
            "    (conv1): Conv2d(3, 64, kernel_size=(7, 7), stride=(2, 2), padding=(3, 3), bias=False)\n",
            "    (bn1): BatchNorm2d(64, eps=1e-05, momentum=0.1, affine=True, track_running_stats=True)\n",
            "    (relu): ReLU(inplace=True)\n",
            "    (maxpool): MaxPool2d(kernel_size=3, stride=2, padding=1, dilation=1, ceil_mode=False)\n",
            "    (layer1): Sequential(\n",
            "      (0): BasicBlock(\n",
            "        (conv1): Conv2d(64, 64, kernel_size=(3, 3), stride=(1, 1), padding=(1, 1), bias=False)\n",
            "        (bn1): BatchNorm2d(64, eps=1e-05, momentum=0.1, affine=True, track_running_stats=True)\n",
            "        (relu): ReLU(inplace=True)\n",
            "        (conv2): Conv2d(64, 64, kernel_size=(3, 3), stride=(1, 1), padding=(1, 1), bias=False)\n",
            "        (bn2): BatchNorm2d(64, eps=1e-05, momentum=0.1, affine=True, track_running_stats=True)\n",
            "      )\n",
            "      (1): BasicBlock(\n",
            "        (conv1): Conv2d(64, 64, kernel_size=(3, 3), stride=(1, 1), padding=(1, 1), bias=False)\n",
            "        (bn1): BatchNorm2d(64, eps=1e-05, momentum=0.1, affine=True, track_running_stats=True)\n",
            "        (relu): ReLU(inplace=True)\n",
            "        (conv2): Conv2d(64, 64, kernel_size=(3, 3), stride=(1, 1), padding=(1, 1), bias=False)\n",
            "        (bn2): BatchNorm2d(64, eps=1e-05, momentum=0.1, affine=True, track_running_stats=True)\n",
            "      )\n",
            "    )\n",
            "    (layer2): Sequential(\n",
            "      (0): BasicBlock(\n",
            "        (conv1): Conv2d(64, 128, kernel_size=(3, 3), stride=(2, 2), padding=(1, 1), bias=False)\n",
            "        (bn1): BatchNorm2d(128, eps=1e-05, momentum=0.1, affine=True, track_running_stats=True)\n",
            "        (relu): ReLU(inplace=True)\n",
            "        (conv2): Conv2d(128, 128, kernel_size=(3, 3), stride=(1, 1), padding=(1, 1), bias=False)\n",
            "        (bn2): BatchNorm2d(128, eps=1e-05, momentum=0.1, affine=True, track_running_stats=True)\n",
            "        (downsample): Sequential(\n",
            "          (0): Conv2d(64, 128, kernel_size=(1, 1), stride=(2, 2), bias=False)\n",
            "          (1): BatchNorm2d(128, eps=1e-05, momentum=0.1, affine=True, track_running_stats=True)\n",
            "        )\n",
            "      )\n",
            "      (1): BasicBlock(\n",
            "        (conv1): Conv2d(128, 128, kernel_size=(3, 3), stride=(1, 1), padding=(1, 1), bias=False)\n",
            "        (bn1): BatchNorm2d(128, eps=1e-05, momentum=0.1, affine=True, track_running_stats=True)\n",
            "        (relu): ReLU(inplace=True)\n",
            "        (conv2): Conv2d(128, 128, kernel_size=(3, 3), stride=(1, 1), padding=(1, 1), bias=False)\n",
            "        (bn2): BatchNorm2d(128, eps=1e-05, momentum=0.1, affine=True, track_running_stats=True)\n",
            "      )\n",
            "    )\n",
            "    (layer3): Sequential(\n",
            "      (0): BasicBlock(\n",
            "        (conv1): Conv2d(128, 256, kernel_size=(3, 3), stride=(2, 2), padding=(1, 1), bias=False)\n",
            "        (bn1): BatchNorm2d(256, eps=1e-05, momentum=0.1, affine=True, track_running_stats=True)\n",
            "        (relu): ReLU(inplace=True)\n",
            "        (conv2): Conv2d(256, 256, kernel_size=(3, 3), stride=(1, 1), padding=(1, 1), bias=False)\n",
            "        (bn2): BatchNorm2d(256, eps=1e-05, momentum=0.1, affine=True, track_running_stats=True)\n",
            "        (downsample): Sequential(\n",
            "          (0): Conv2d(128, 256, kernel_size=(1, 1), stride=(2, 2), bias=False)\n",
            "          (1): BatchNorm2d(256, eps=1e-05, momentum=0.1, affine=True, track_running_stats=True)\n",
            "        )\n",
            "      )\n",
            "      (1): BasicBlock(\n",
            "        (conv1): Conv2d(256, 256, kernel_size=(3, 3), stride=(1, 1), padding=(1, 1), bias=False)\n",
            "        (bn1): BatchNorm2d(256, eps=1e-05, momentum=0.1, affine=True, track_running_stats=True)\n",
            "        (relu): ReLU(inplace=True)\n",
            "        (conv2): Conv2d(256, 256, kernel_size=(3, 3), stride=(1, 1), padding=(1, 1), bias=False)\n",
            "        (bn2): BatchNorm2d(256, eps=1e-05, momentum=0.1, affine=True, track_running_stats=True)\n",
            "      )\n",
            "    )\n",
            "    (layer4): Sequential(\n",
            "      (0): BasicBlock(\n",
            "        (conv1): Conv2d(256, 512, kernel_size=(3, 3), stride=(2, 2), padding=(1, 1), bias=False)\n",
            "        (bn1): BatchNorm2d(512, eps=1e-05, momentum=0.1, affine=True, track_running_stats=True)\n",
            "        (relu): ReLU(inplace=True)\n",
            "        (conv2): Conv2d(512, 512, kernel_size=(3, 3), stride=(1, 1), padding=(1, 1), bias=False)\n",
            "        (bn2): BatchNorm2d(512, eps=1e-05, momentum=0.1, affine=True, track_running_stats=True)\n",
            "        (downsample): Sequential(\n",
            "          (0): Conv2d(256, 512, kernel_size=(1, 1), stride=(2, 2), bias=False)\n",
            "          (1): BatchNorm2d(512, eps=1e-05, momentum=0.1, affine=True, track_running_stats=True)\n",
            "        )\n",
            "      )\n",
            "      (1): BasicBlock(\n",
            "        (conv1): Conv2d(512, 512, kernel_size=(3, 3), stride=(1, 1), padding=(1, 1), bias=False)\n",
            "        (bn1): BatchNorm2d(512, eps=1e-05, momentum=0.1, affine=True, track_running_stats=True)\n",
            "        (relu): ReLU(inplace=True)\n",
            "        (conv2): Conv2d(512, 512, kernel_size=(3, 3), stride=(1, 1), padding=(1, 1), bias=False)\n",
            "        (bn2): BatchNorm2d(512, eps=1e-05, momentum=0.1, affine=True, track_running_stats=True)\n",
            "      )\n",
            "    )\n",
            "    (avgpool): AdaptiveAvgPool2d(output_size=(1, 1))\n",
            "    (fc): Linear(in_features=512, out_features=1000, bias=True)\n",
            "  )\n",
            "  (layer0): Sequential(\n",
            "    (0): Conv2d(3, 64, kernel_size=(7, 7), stride=(2, 2), padding=(3, 3), bias=False)\n",
            "    (1): BatchNorm2d(64, eps=1e-05, momentum=0.1, affine=True, track_running_stats=True)\n",
            "    (2): ReLU(inplace=True)\n",
            "  )\n",
            "  (layer0_1x1): Sequential(\n",
            "    (0): Conv2d(64, 64, kernel_size=(1, 1), stride=(1, 1))\n",
            "    (1): ReLU(inplace=True)\n",
            "  )\n",
            "  (layer1): Sequential(\n",
            "    (0): MaxPool2d(kernel_size=3, stride=2, padding=1, dilation=1, ceil_mode=False)\n",
            "    (1): Sequential(\n",
            "      (0): BasicBlock(\n",
            "        (conv1): Conv2d(64, 64, kernel_size=(3, 3), stride=(1, 1), padding=(1, 1), bias=False)\n",
            "        (bn1): BatchNorm2d(64, eps=1e-05, momentum=0.1, affine=True, track_running_stats=True)\n",
            "        (relu): ReLU(inplace=True)\n",
            "        (conv2): Conv2d(64, 64, kernel_size=(3, 3), stride=(1, 1), padding=(1, 1), bias=False)\n",
            "        (bn2): BatchNorm2d(64, eps=1e-05, momentum=0.1, affine=True, track_running_stats=True)\n",
            "      )\n",
            "      (1): BasicBlock(\n",
            "        (conv1): Conv2d(64, 64, kernel_size=(3, 3), stride=(1, 1), padding=(1, 1), bias=False)\n",
            "        (bn1): BatchNorm2d(64, eps=1e-05, momentum=0.1, affine=True, track_running_stats=True)\n",
            "        (relu): ReLU(inplace=True)\n",
            "        (conv2): Conv2d(64, 64, kernel_size=(3, 3), stride=(1, 1), padding=(1, 1), bias=False)\n",
            "        (bn2): BatchNorm2d(64, eps=1e-05, momentum=0.1, affine=True, track_running_stats=True)\n",
            "      )\n",
            "    )\n",
            "  )\n",
            "  (layer1_1x1): Sequential(\n",
            "    (0): Conv2d(64, 64, kernel_size=(1, 1), stride=(1, 1))\n",
            "    (1): ReLU(inplace=True)\n",
            "  )\n",
            "  (layer2): Sequential(\n",
            "    (0): BasicBlock(\n",
            "      (conv1): Conv2d(64, 128, kernel_size=(3, 3), stride=(2, 2), padding=(1, 1), bias=False)\n",
            "      (bn1): BatchNorm2d(128, eps=1e-05, momentum=0.1, affine=True, track_running_stats=True)\n",
            "      (relu): ReLU(inplace=True)\n",
            "      (conv2): Conv2d(128, 128, kernel_size=(3, 3), stride=(1, 1), padding=(1, 1), bias=False)\n",
            "      (bn2): BatchNorm2d(128, eps=1e-05, momentum=0.1, affine=True, track_running_stats=True)\n",
            "      (downsample): Sequential(\n",
            "        (0): Conv2d(64, 128, kernel_size=(1, 1), stride=(2, 2), bias=False)\n",
            "        (1): BatchNorm2d(128, eps=1e-05, momentum=0.1, affine=True, track_running_stats=True)\n",
            "      )\n",
            "    )\n",
            "    (1): BasicBlock(\n",
            "      (conv1): Conv2d(128, 128, kernel_size=(3, 3), stride=(1, 1), padding=(1, 1), bias=False)\n",
            "      (bn1): BatchNorm2d(128, eps=1e-05, momentum=0.1, affine=True, track_running_stats=True)\n",
            "      (relu): ReLU(inplace=True)\n",
            "      (conv2): Conv2d(128, 128, kernel_size=(3, 3), stride=(1, 1), padding=(1, 1), bias=False)\n",
            "      (bn2): BatchNorm2d(128, eps=1e-05, momentum=0.1, affine=True, track_running_stats=True)\n",
            "    )\n",
            "  )\n",
            "  (layer2_1x1): Sequential(\n",
            "    (0): Conv2d(128, 128, kernel_size=(1, 1), stride=(1, 1))\n",
            "    (1): ReLU(inplace=True)\n",
            "  )\n",
            "  (layer3): Sequential(\n",
            "    (0): BasicBlock(\n",
            "      (conv1): Conv2d(128, 256, kernel_size=(3, 3), stride=(2, 2), padding=(1, 1), bias=False)\n",
            "      (bn1): BatchNorm2d(256, eps=1e-05, momentum=0.1, affine=True, track_running_stats=True)\n",
            "      (relu): ReLU(inplace=True)\n",
            "      (conv2): Conv2d(256, 256, kernel_size=(3, 3), stride=(1, 1), padding=(1, 1), bias=False)\n",
            "      (bn2): BatchNorm2d(256, eps=1e-05, momentum=0.1, affine=True, track_running_stats=True)\n",
            "      (downsample): Sequential(\n",
            "        (0): Conv2d(128, 256, kernel_size=(1, 1), stride=(2, 2), bias=False)\n",
            "        (1): BatchNorm2d(256, eps=1e-05, momentum=0.1, affine=True, track_running_stats=True)\n",
            "      )\n",
            "    )\n",
            "    (1): BasicBlock(\n",
            "      (conv1): Conv2d(256, 256, kernel_size=(3, 3), stride=(1, 1), padding=(1, 1), bias=False)\n",
            "      (bn1): BatchNorm2d(256, eps=1e-05, momentum=0.1, affine=True, track_running_stats=True)\n",
            "      (relu): ReLU(inplace=True)\n",
            "      (conv2): Conv2d(256, 256, kernel_size=(3, 3), stride=(1, 1), padding=(1, 1), bias=False)\n",
            "      (bn2): BatchNorm2d(256, eps=1e-05, momentum=0.1, affine=True, track_running_stats=True)\n",
            "    )\n",
            "  )\n",
            "  (layer3_1x1): Sequential(\n",
            "    (0): Conv2d(256, 256, kernel_size=(1, 1), stride=(1, 1))\n",
            "    (1): ReLU(inplace=True)\n",
            "  )\n",
            "  (layer4): Sequential(\n",
            "    (0): BasicBlock(\n",
            "      (conv1): Conv2d(256, 512, kernel_size=(3, 3), stride=(2, 2), padding=(1, 1), bias=False)\n",
            "      (bn1): BatchNorm2d(512, eps=1e-05, momentum=0.1, affine=True, track_running_stats=True)\n",
            "      (relu): ReLU(inplace=True)\n",
            "      (conv2): Conv2d(512, 512, kernel_size=(3, 3), stride=(1, 1), padding=(1, 1), bias=False)\n",
            "      (bn2): BatchNorm2d(512, eps=1e-05, momentum=0.1, affine=True, track_running_stats=True)\n",
            "      (downsample): Sequential(\n",
            "        (0): Conv2d(256, 512, kernel_size=(1, 1), stride=(2, 2), bias=False)\n",
            "        (1): BatchNorm2d(512, eps=1e-05, momentum=0.1, affine=True, track_running_stats=True)\n",
            "      )\n",
            "    )\n",
            "    (1): BasicBlock(\n",
            "      (conv1): Conv2d(512, 512, kernel_size=(3, 3), stride=(1, 1), padding=(1, 1), bias=False)\n",
            "      (bn1): BatchNorm2d(512, eps=1e-05, momentum=0.1, affine=True, track_running_stats=True)\n",
            "      (relu): ReLU(inplace=True)\n",
            "      (conv2): Conv2d(512, 512, kernel_size=(3, 3), stride=(1, 1), padding=(1, 1), bias=False)\n",
            "      (bn2): BatchNorm2d(512, eps=1e-05, momentum=0.1, affine=True, track_running_stats=True)\n",
            "    )\n",
            "  )\n",
            "  (layer4_1x1): Sequential(\n",
            "    (0): Conv2d(512, 512, kernel_size=(1, 1), stride=(1, 1))\n",
            "    (1): ReLU(inplace=True)\n",
            "  )\n",
            "  (upsample): Upsample(scale_factor=2.0, mode=bilinear)\n",
            "  (conv_up3): Sequential(\n",
            "    (0): Conv2d(768, 512, kernel_size=(3, 3), stride=(1, 1), padding=(1, 1))\n",
            "    (1): ReLU(inplace=True)\n",
            "  )\n",
            "  (conv_up2): Sequential(\n",
            "    (0): Conv2d(640, 256, kernel_size=(3, 3), stride=(1, 1), padding=(1, 1))\n",
            "    (1): ReLU(inplace=True)\n",
            "  )\n",
            "  (conv_up1): Sequential(\n",
            "    (0): Conv2d(320, 256, kernel_size=(3, 3), stride=(1, 1), padding=(1, 1))\n",
            "    (1): ReLU(inplace=True)\n",
            "  )\n",
            "  (conv_up0): Sequential(\n",
            "    (0): Conv2d(320, 128, kernel_size=(3, 3), stride=(1, 1), padding=(1, 1))\n",
            "    (1): ReLU(inplace=True)\n",
            "  )\n",
            "  (conv_original_size0): Sequential(\n",
            "    (0): Conv2d(3, 64, kernel_size=(3, 3), stride=(1, 1), padding=(1, 1))\n",
            "    (1): ReLU(inplace=True)\n",
            "  )\n",
            "  (conv_original_size1): Sequential(\n",
            "    (0): Conv2d(64, 64, kernel_size=(3, 3), stride=(1, 1), padding=(1, 1))\n",
            "    (1): ReLU(inplace=True)\n",
            "  )\n",
            "  (conv_original_size2): Sequential(\n",
            "    (0): Conv2d(192, 64, kernel_size=(3, 3), stride=(1, 1), padding=(1, 1))\n",
            "    (1): ReLU(inplace=True)\n",
            "  )\n",
            "  (conv_last): Conv2d(64, 6, kernel_size=(1, 1), stride=(1, 1))\n",
            ")\n"
          ],
          "name": "stdout"
        }
      ]
    },
    {
      "cell_type": "markdown",
      "metadata": {
        "id": "t27X2tFFqhmk",
        "colab_type": "text"
      },
      "source": [
        "# Train"
      ]
    },
    {
      "cell_type": "code",
      "metadata": {
        "id": "7aS3xjY1pXXZ",
        "colab_type": "code",
        "outputId": "1ac43bfb-d66b-4faf-efcb-4bf735484214",
        "colab": {
          "base_uri": "https://localhost:8080/",
          "height": 1000
        }
      },
      "source": [
        "import torch.optim as optim\n",
        "from torch.optim import lr_scheduler\n",
        "from meditorch.nn import Trainer\n",
        "\n",
        "optimizer_func = optim.Adam(model.parameters(), lr=1e-4)\n",
        "scheduler = lr_scheduler.StepLR(optimizer_func, step_size=4, gamma=0.1)\n",
        "\n",
        "trainer = Trainer(model, optimizer=optimizer_func, scheduler=scheduler)\n",
        "trainer.train_model(dataloaders_synthetic, num_epochs=20)"
      ],
      "execution_count": 13,
      "outputs": [
        {
          "output_type": "stream",
          "text": [
            "Epoch 1/20:\n",
            "\tlearning rate: 1.00e-04\n",
            "\ttrain-> bce:0.160798|dice:0.988998|iou:0.000572|loss:0.574898\n",
            "\tval  -> bce:0.030492|dice:0.974126|iou:0.000000|loss:0.502309\n",
            "\tSaving best model, epoch loss 0.502309 < best loss 10000000000.000000\n",
            "\t1m 14s\n",
            "----------\n",
            "Epoch 2/20:\n",
            "\tlearning rate: 1.00e-04\n",
            "\ttrain-> bce:0.023773|dice:0.866098|iou:0.113232|loss:0.444935\n",
            "\tval  -> bce:0.019598|dice:0.798171|iou:0.153527|loss:0.408884\n",
            "\tSaving best model, epoch loss 0.408884 < best loss 0.502309\n",
            "\t1m 14s\n",
            "----------\n",
            "Epoch 3/20:\n",
            "\tlearning rate: 1.00e-04\n",
            "\ttrain-> bce:0.016066|dice:0.604338|iou:0.368155|loss:0.310202\n",
            "\tval  -> bce:0.012759|dice:0.435916|iou:0.528693|loss:0.224338\n",
            "\tSaving best model, epoch loss 0.224338 < best loss 0.408884\n",
            "\t1m 14s\n",
            "----------\n",
            "Epoch 4/20:\n",
            "\tlearning rate: 1.00e-04\n",
            "\ttrain-> bce:0.009472|dice:0.347700|iou:0.643405|loss:0.178586\n",
            "\tval  -> bce:0.005132|dice:0.257551|iou:0.777097|loss:0.131342\n",
            "\tSaving best model, epoch loss 0.131342 < best loss 0.224338\n",
            "\t1m 14s\n",
            "----------\n",
            "Epoch 5/20:\n",
            "\tlearning rate: 1.00e-05\n",
            "\ttrain-> bce:0.005149|dice:0.233652|iou:0.808524|loss:0.119400\n",
            "\tval  -> bce:0.004329|dice:0.213187|iou:0.835765|loss:0.108758\n",
            "\tSaving best model, epoch loss 0.108758 < best loss 0.131342\n",
            "\t1m 14s\n",
            "----------\n",
            "Epoch 6/20:\n",
            "\tlearning rate: 1.00e-05\n",
            "\ttrain-> bce:0.004647|dice:0.204523|iou:0.835961|loss:0.104585\n",
            "\tval  -> bce:0.003941|dice:0.187248|iou:0.850523|loss:0.095595\n",
            "\tSaving best model, epoch loss 0.095595 < best loss 0.108758\n",
            "\t1m 14s\n",
            "----------\n",
            "Epoch 7/20:\n",
            "\tlearning rate: 1.00e-05\n",
            "\ttrain-> bce:0.004326|dice:0.180556|iou:0.846593|loss:0.092441\n",
            "\tval  -> bce:0.003772|dice:0.167822|iou:0.854478|loss:0.085797\n",
            "\tSaving best model, epoch loss 0.085797 < best loss 0.095595\n",
            "\t1m 14s\n",
            "----------\n",
            "Epoch 8/20:\n",
            "\tlearning rate: 1.00e-05\n",
            "\ttrain-> bce:0.004126|dice:0.162833|iou:0.855013|loss:0.083479\n",
            "\tval  -> bce:0.003590|dice:0.154113|iou:0.861767|loss:0.078851\n",
            "\tSaving best model, epoch loss 0.078851 < best loss 0.085797\n",
            "\t1m 14s\n",
            "----------\n",
            "Epoch 9/20:\n",
            "\tlearning rate: 1.00e-06\n",
            "\ttrain-> bce:0.003986|dice:0.154268|iou:0.861092|loss:0.079127\n",
            "\tval  -> bce:0.003603|dice:0.151954|iou:0.864197|loss:0.077779\n",
            "\tSaving best model, epoch loss 0.077779 < best loss 0.078851\n",
            "\t1m 14s\n",
            "----------\n",
            "Epoch 10/20:\n",
            "\tlearning rate: 1.00e-06\n",
            "\ttrain-> bce:0.003974|dice:0.152964|iou:0.861721|loss:0.078469\n",
            "\tval  -> bce:0.003581|dice:0.150831|iou:0.865400|loss:0.077206\n",
            "\tSaving best model, epoch loss 0.077206 < best loss 0.077779\n",
            "\t1m 14s\n",
            "----------\n",
            "Epoch 11/20:\n",
            "\tlearning rate: 1.00e-06\n",
            "\ttrain-> bce:0.003944|dice:0.151872|iou:0.862911|loss:0.077908\n",
            "\tval  -> bce:0.003574|dice:0.150139|iou:0.865844|loss:0.076857\n",
            "\tSaving best model, epoch loss 0.076857 < best loss 0.077206\n",
            "\t1m 14s\n",
            "----------\n",
            "Epoch 12/20:\n",
            "\tlearning rate: 1.00e-06\n",
            "\ttrain-> bce:0.003929|dice:0.150793|iou:0.863762|loss:0.077361\n",
            "\tval  -> bce:0.003557|dice:0.149010|iou:0.866006|loss:0.076283\n",
            "\tSaving best model, epoch loss 0.076283 < best loss 0.076857\n",
            "\t1m 14s\n",
            "----------\n",
            "Epoch 13/20:\n",
            "\tlearning rate: 1.00e-07\n",
            "\ttrain-> bce:0.003925|dice:0.149936|iou:0.864463|loss:0.076931\n",
            "\tval  -> bce:0.003566|dice:0.148694|iou:0.866230|loss:0.076130\n",
            "\tSaving best model, epoch loss 0.076130 < best loss 0.076283\n",
            "\t1m 14s\n",
            "----------\n",
            "Epoch 14/20:\n",
            "\tlearning rate: 1.00e-07\n",
            "\ttrain-> bce:0.003905|dice:0.149670|iou:0.864930|loss:0.076787\n",
            "\tval  -> bce:0.003564|dice:0.148575|iou:0.866105|loss:0.076070\n",
            "\tSaving best model, epoch loss 0.076070 < best loss 0.076130\n",
            "\t1m 14s\n",
            "----------\n",
            "Epoch 15/20:\n",
            "\tlearning rate: 1.00e-07\n",
            "\ttrain-> bce:0.003902|dice:0.149765|iou:0.864534|loss:0.076833\n",
            "\tval  -> bce:0.003556|dice:0.148693|iou:0.866586|loss:0.076124\n",
            "\t1m 14s\n",
            "----------\n",
            "Epoch 16/20:\n",
            "\tlearning rate: 1.00e-07\n",
            "\ttrain-> bce:0.003897|dice:0.149488|iou:0.865054|loss:0.076693\n",
            "\tval  -> bce:0.003569|dice:0.148547|iou:0.866409|loss:0.076058\n",
            "\tSaving best model, epoch loss 0.076058 < best loss 0.076070\n",
            "\t1m 14s\n",
            "----------\n",
            "Epoch 17/20:\n",
            "\tlearning rate: 1.00e-08\n",
            "\ttrain-> bce:0.003905|dice:0.149550|iou:0.864735|loss:0.076728\n",
            "\tval  -> bce:0.003568|dice:0.148352|iou:0.866210|loss:0.075960\n",
            "\tSaving best model, epoch loss 0.075960 < best loss 0.076058\n",
            "\t1m 14s\n",
            "----------\n",
            "Epoch 18/20:\n",
            "\tlearning rate: 1.00e-08\n",
            "\ttrain-> bce:0.003908|dice:0.149529|iou:0.864705|loss:0.076718\n",
            "\tval  -> bce:0.003560|dice:0.148370|iou:0.867029|loss:0.075965\n",
            "\t1m 14s\n",
            "----------\n",
            "Epoch 19/20:\n",
            "\tlearning rate: 1.00e-08\n",
            "\ttrain-> bce:0.003900|dice:0.149375|iou:0.864817|loss:0.076637\n",
            "\tval  -> bce:0.003547|dice:0.148495|iou:0.866775|loss:0.076021\n",
            "\t1m 14s\n",
            "----------\n",
            "Epoch 20/20:\n",
            "\tlearning rate: 1.00e-08\n",
            "\ttrain-> bce:0.003889|dice:0.149328|iou:0.864838|loss:0.076609\n",
            "\tval  -> bce:0.003562|dice:0.148371|iou:0.866459|loss:0.075967\n",
            "\t1m 14s\n",
            "----------\n",
            "Best val loss: 0.075960\n"
          ],
          "name": "stdout"
        },
        {
          "output_type": "display_data",
          "data": {
            "image/png": "[encoded data removed]",
            "text/plain": [
              "<Figure size 1152x288 with 4 Axes>"
            ]
          },
          "metadata": {
            "tags": []
          }
        }
      ]
    },
    {
      "cell_type": "markdown",
      "metadata": {
        "id": "_BBiOII_qloG",
        "colab_type": "text"
      },
      "source": [
        "# Test"
      ]
    },
    {
      "cell_type": "code",
      "metadata": {
        "id": "95GxeqRHqmZ5",
        "colab_type": "code",
        "outputId": "8eecbe5c-90b0-4845-a7e4-dde0e424edb8",
        "colab": {
          "base_uri": "https://localhost:8080/",
          "height": 1000
        }
      },
      "source": [
        "images, masks = next(iter(dataloaders_synthetic['val']))\n",
        "preds = trainer.predict(images)\n",
        "\n",
        "from meditorch.utils.plot import plot_image_truemask_predictedmask\n",
        "num_samples = 5\n",
        "plot_image_truemask_predictedmask(images[:num_samples], masks[:num_samples], preds[:num_samples])"
      ],
      "execution_count": 14,
      "outputs": [
        {
          "output_type": "display_data",
          "data": {
            "image/png": "[encoded data removed]",
            "text/plain": [
              "<Figure size 864x1440 with 15 Axes>"
            ]
          },
          "metadata": {
            "tags": []
          }
        }
      ]
    },
    {
      "cell_type": "code",
      "metadata": {
        "id": "cuGKgEDYINPK",
        "colab_type": "code",
        "colab": {}
      },
      "source": [
        ""
      ],
      "execution_count": 0,
      "outputs": []
    }
  ]
}